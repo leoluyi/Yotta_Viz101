{
 "cells": [
  {
   "cell_type": "markdown",
   "metadata": {},
   "source": [
    "# Pandas Data Manipulation"
   ]
  },
  {
   "cell_type": "code",
   "execution_count": 1,
   "metadata": {},
   "outputs": [],
   "source": []
  },
  {
   "cell_type": "markdown",
   "metadata": {},
   "source": [
    "## Tidy data with Pandas\n",
    "\n",
    "1. Each variable forms a column.\n",
    "2. Each observation forms a row.\n",
    "3. Each type of observational unit forms a table.\n",
    "\n",
    "####  `melt`: 欄位名變成值\n",
    "\n",
    "- **id_vars (key)**: 識別 record 的最小單位的變數 (或變數的組合) => 不動\n",
    "- **value_vars (measure_var)**: 要折下來的欄位們 (default will use all non id_vars variables)\n",
    "- **var_name**: 舊欄位折下來後\n",
    "- **value_name**: 舊欄位的值疊成單一欄位\n",
    "- **col_level**: If columns are a MultiIndex then use this level to melt\n",
    "\n",
    "#### `pivot_table` (cast): 值變成欄位名\n",
    "\n",
    "- **index (key)**: 識別 record 的最小單位的變數 (或變數的組合)\n",
    "    - 如果是唯一的 => 直接填值\n",
    "    - 不是唯一 => 需要 `aggfunc`\n",
    "- **columns (variables)**: 作為 *新變數* 的欄位\n",
    "- **values**: 作為 *值* 的欄位\n",
    "\n",
    "**Tools for reshaping dataframe:**\n",
    "\n",
    "| Packages     | to long | to wide                        |\n",
    "|--------------|---------|--------------------------------|\n",
    "| **tidyr**    | gather  | spread                         |\n",
    "| reshape2     | melt    | dcast                          |\n",
    "| **pandas**   | melt    | unstsack / pivot_table / pivot |\n",
    "| spreadsheets | unpivot | pivot                          |\n",
    "| databases    | fold    | unfold                         |"
   ]
  },
  {
   "cell_type": "markdown",
   "metadata": {},
   "source": [
    "## Long data (Unpivot): 欄位名變成值\n",
    "\n",
    "Pandas methods:\n",
    "\n",
    "```py\n",
    "df3.melt(id_vars=['first', 'last'], var_name='variable', value_name='value)\n",
    "```\n",
    "\n",
    "- **index (key)**: 識別 record 的最小單位的變數 (或變數的組合)\n",
    "    - 如果是唯一的 => 直接填值\n",
    "    - 不是唯一 => 需要 `aggfunc`\n",
    "- **columns (variables)**: 作為 *新變數* 的欄位\n",
    "- **values**: 作為 *值* 的欄位\n",
    "\n",
    "https://pandas.pydata.org/pandas-docs/stable/reshaping.html#reshaping-by-melt\n",
    "\n",
    "<img src=\"https://pandas.pydata.org/pandas-docs/stable/_images/reshaping_melt.png\" width=\"640\">"
   ]
  },
  {
   "cell_type": "markdown",
   "metadata": {},
   "source": [
    "#### 範例資料：Minisoda 交通死亡數"
   ]
  },
  {
   "cell_type": "markdown",
   "metadata": {},
   "source": [
    "- **Twin_Cities**: 是否為 Twin Cities (Minneapolis and St. Paul are frequently)\n",
    "- **Pres_Election**: 該區 2016 美國總統優勢候選人\n",
    "- **Public_Transport(%)**: 大眾運輸搭乘率\n",
    "- **Travel_Time**: 平均通勤時間\n",
    "- **2012 - 2016**: 交通死亡數"
   ]
  },
  {
   "cell_type": "markdown",
   "metadata": {},
   "source": [
    "![](img/pandas-melt.png)"
   ]
  },
  {
   "cell_type": "markdown",
   "metadata": {},
   "source": [
    "## Wide data (Pivot): 值變成欄位名\n",
    "\n",
    "> Not tidy data. 通常用在表格呈現或 Pandas 畫圖\n",
    "\n",
    "\n",
    "Pandas methods:\n",
    "\n",
    "- `unstack()`: for multiindex\n",
    "\n",
    "<img src=\"https://pandas.pydata.org/pandas-docs/stable/_images/reshaping_unstack_0.png\" width=\"640\">\n",
    "\n",
    "- `pivot()`:\n",
    "    - doesn't accept a list for index (key).\n",
    "    - provides general purpose pivoting with various data types (strings, numerics, etc.)\n",
    "- `pivot_table()`\n",
    "    - supports using __multiple columns__ for the index (key).\n",
    "    - you can give `pivot_table` a __list of aggregation functions__ using keyword argument `aggfunc`.\n",
    "    - the default `aggfunc` is `numpy.mean`.\n",
    "- Internally, both of them are using `reset_index()`/`stack()`/`unstack()` to do the job.\n",
    "\n",
    "Args for `pivot` and `pivot_table`:\n",
    "\n",
    "- **index (key)**: 識別 record 的最小單位的變數 (或變數的組合)\n",
    "    - 如果是唯一的 => 直接填值\n",
    "    - 不是唯一 => 需要 `aggfunc` 的參數\n",
    "- **columns (variables)**: 作為 *新變數* 的欄位\n",
    "- **values**: 作為 *值* 的欄位\n",
    "\n",
    "<img src=\"https://pandas.pydata.org/pandas-docs/stable/_images/reshaping_pivot.png\" width=\"640\">"
   ]
  },
  {
   "cell_type": "markdown",
   "metadata": {},
   "source": [
    "### Group and summarize"
   ]
  },
  {
   "cell_type": "markdown",
   "metadata": {},
   "source": [
    "#### Twin_Cities 和非 Twin_Cities 每年的交通死亡數 (Fatalities) 是否有差異？"
   ]
  },
  {
   "cell_type": "code",
   "execution_count": null,
   "metadata": {},
   "outputs": [],
   "source": []
  },
  {
   "cell_type": "markdown",
   "metadata": {},
   "source": [
    "#### Titanic"
   ]
  },
  {
   "cell_type": "markdown",
   "metadata": {},
   "source": [
    "- 姓名、性別、年齡\n",
    "- survived: 是否生還\n",
    "- pclass: 艙等\n",
    "- cabin: 房間號碼\n",
    "- embarlked: 登船港口\n",
    "- sibsp: 兄弟姊妹＋老婆丈夫數量(sibsp)\n",
    "- parch: 父母小孩的數量"
   ]
  },
  {
   "cell_type": "markdown",
   "metadata": {},
   "source": [
    "#### 不同艙等各有多少人？"
   ]
  },
  {
   "cell_type": "code",
   "execution_count": null,
   "metadata": {},
   "outputs": [],
   "source": []
  },
  {
   "cell_type": "markdown",
   "metadata": {},
   "source": [
    "#### 不同艙等的生還/死亡率？"
   ]
  },
  {
   "cell_type": "code",
   "execution_count": null,
   "metadata": {},
   "outputs": [],
   "source": []
  },
  {
   "cell_type": "markdown",
   "metadata": {},
   "source": [
    "#### 小結\n",
    "\n",
    "- **`value_counts()`** (Series method)\n",
    "    - Compute frequencies of values in a Series. (Returns named series)\n",
    "- **`size()`** (Series, DataFrame, GroupBy method)\n",
    "    - Compute number of elements in this object.\n",
    "- **`count()`** (Series, DataFrame, GroupBy method)\n",
    "    - Compute (groups') count of __valid values__"
   ]
  },
  {
   "cell_type": "markdown",
   "metadata": {},
   "source": [
    "### pivot() / pivot_table()"
   ]
  },
  {
   "cell_type": "markdown",
   "metadata": {},
   "source": [
    "#### 範例資料：各地銷售額"
   ]
  },
  {
   "cell_type": "code",
   "execution_count": 13,
   "metadata": {},
   "outputs": [
    {
     "data": {
      "text/html": [
       "<div>\n",
       "<style scoped>\n",
       "    .dataframe tbody tr th:only-of-type {\n",
       "        vertical-align: middle;\n",
       "    }\n",
       "\n",
       "    .dataframe tbody tr th {\n",
       "        vertical-align: top;\n",
       "    }\n",
       "\n",
       "    .dataframe thead th {\n",
       "        text-align: right;\n",
       "    }\n",
       "</style>\n",
       "<table border=\"1\" class=\"dataframe\">\n",
       "  <thead>\n",
       "    <tr style=\"text-align: right;\">\n",
       "      <th></th>\n",
       "      <th>year</th>\n",
       "      <th>country</th>\n",
       "      <th>sales</th>\n",
       "      <th>rep</th>\n",
       "    </tr>\n",
       "  </thead>\n",
       "  <tbody>\n",
       "    <tr>\n",
       "      <th>0</th>\n",
       "      <td>2016</td>\n",
       "      <td>uk</td>\n",
       "      <td>10</td>\n",
       "      <td>john</td>\n",
       "    </tr>\n",
       "    <tr>\n",
       "      <th>1</th>\n",
       "      <td>2016</td>\n",
       "      <td>usa</td>\n",
       "      <td>21</td>\n",
       "      <td>john</td>\n",
       "    </tr>\n",
       "    <tr>\n",
       "      <th>2</th>\n",
       "      <td>2015</td>\n",
       "      <td>fr</td>\n",
       "      <td>20</td>\n",
       "      <td>claire</td>\n",
       "    </tr>\n",
       "    <tr>\n",
       "      <th>3</th>\n",
       "      <td>2014</td>\n",
       "      <td>fr</td>\n",
       "      <td>10</td>\n",
       "      <td>kyle</td>\n",
       "    </tr>\n",
       "    <tr>\n",
       "      <th>4</th>\n",
       "      <td>2013</td>\n",
       "      <td>uk</td>\n",
       "      <td>12</td>\n",
       "      <td>kyle</td>\n",
       "    </tr>\n",
       "  </tbody>\n",
       "</table>\n",
       "</div>"
      ],
      "text/plain": [
       "   year country  sales     rep\n",
       "0  2016      uk     10    john\n",
       "1  2016     usa     21    john\n",
       "2  2015      fr     20  claire\n",
       "3  2014      fr     10    kyle\n",
       "4  2013      uk     12    kyle"
      ]
     },
     "execution_count": 13,
     "metadata": {},
     "output_type": "execute_result"
    }
   ],
   "source": [
    "sales_df = pd.DataFrame({\n",
    "    'year': ['2016', '2016', '2015', '2014', '2013'],\n",
    "    'country':['uk', 'usa', 'fr','fr','uk'],\n",
    "    'sales': [10, 21, 20, 10,12],\n",
    "    'rep': ['john', 'john', 'claire', 'kyle','kyle']\n",
    "})\n",
    "sales_df.head()"
   ]
  },
  {
   "cell_type": "code",
   "execution_count": null,
   "metadata": {},
   "outputs": [],
   "source": []
  }
 ],
 "metadata": {
  "kernelspec": {
   "display_name": "Python 3",
   "language": "python",
   "name": "python3"
  },
  "language_info": {
   "codemirror_mode": {
    "name": "ipython",
    "version": 3
   },
   "file_extension": ".py",
   "mimetype": "text/x-python",
   "name": "python",
   "nbconvert_exporter": "python",
   "pygments_lexer": "ipython3",
   "version": "3.6.5"
  }
 },
 "nbformat": 4,
 "nbformat_minor": 2
}
