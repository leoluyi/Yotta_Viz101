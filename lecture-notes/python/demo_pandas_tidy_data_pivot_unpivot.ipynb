{
 "cells": [
  {
   "cell_type": "markdown",
   "metadata": {},
   "source": [
    "# Pandas Data Manipulation"
   ]
  },
  {
   "cell_type": "code",
   "execution_count": null,
   "metadata": {},
   "outputs": [],
   "source": []
  },
  {
   "cell_type": "markdown",
   "metadata": {},
   "source": [
    "## Tidy data with Pandas\n",
    "\n",
    "1. Each variable forms a column.\n",
    "2. Each observation forms a row.\n",
    "3. Each type of observational unit forms a table.\n",
    "\n",
    "####  To long ➔ `melt` 欄位名稱變成值\n",
    "\n",
    "- **id_vars (key)**: 識別 record 的最小單位的變數 (或變數的組合) => 不動\n",
    "- **value_vars (measure_var)**: 要折下來的欄位們 (default will use all non id_vars variables)\n",
    "- **var_name**: 舊欄位折下來後\n",
    "- **value_name**: 舊欄位的值疊成單一欄位\n",
    "- **col_level**: If columns are a MultiIndex then use this level to melt\n",
    "\n",
    "#### To wide ➔ `pivot_table` (cast) 值變成欄位名\n",
    "\n",
    "- **index (key)**: 識別 record 的最小單位的變數 (或變數的組合)\n",
    "    - 如果是唯一的 => 直接填值\n",
    "    - 不是唯一 => 需要 `aggfunc`\n",
    "- **columns (variables)**: 作為 *新變數* 的欄位\n",
    "- **values**: 作為 *值* 的欄位\n",
    "\n",
    "**Tools for reshaping dataframe:**\n",
    "\n",
    "| Packages     | to long | to wide                        |\n",
    "|--------------|---------|--------------------------------|\n",
    "| **tidyr**    | gather  | spread                         |\n",
    "| reshape2     | melt    | dcast                          |\n",
    "| **pandas**   | melt    | unstsack / pivot_table / pivot |\n",
    "| spreadsheets | unpivot | pivot                          |\n",
    "| databases    | fold    | unfold                         |"
   ]
  },
  {
   "cell_type": "markdown",
   "metadata": {},
   "source": [
    "### Group and summarize"
   ]
  },
  {
   "cell_type": "code",
   "execution_count": null,
   "metadata": {},
   "outputs": [],
   "source": []
  },
  {
   "cell_type": "markdown",
   "metadata": {},
   "source": [
    "#### Twin_Cities 和非 Twin_Cities 每年的交通死亡數 (Fatalities) 是否有差異？"
   ]
  },
  {
   "cell_type": "code",
   "execution_count": null,
   "metadata": {},
   "outputs": [],
   "source": []
  },
  {
   "cell_type": "markdown",
   "metadata": {},
   "source": [
    "#### Titanic"
   ]
  },
  {
   "cell_type": "markdown",
   "metadata": {},
   "source": [
    "- 姓名、性別、年齡\n",
    "- survived: 是否生還\n",
    "- pclass: 艙等\n",
    "- cabin: 房間號碼\n",
    "- embarlked: 登船港口\n",
    "- sibsp: 兄弟姊妹＋老婆丈夫數量(sibsp)\n",
    "- parch: 父母小孩的數量"
   ]
  },
  {
   "cell_type": "code",
   "execution_count": null,
   "metadata": {},
   "outputs": [],
   "source": []
  },
  {
   "cell_type": "markdown",
   "metadata": {},
   "source": [
    "#### 不同艙等各有多少人？"
   ]
  },
  {
   "cell_type": "code",
   "execution_count": null,
   "metadata": {},
   "outputs": [],
   "source": []
  },
  {
   "cell_type": "markdown",
   "metadata": {},
   "source": [
    "#### 不同艙等的生還/死亡率？"
   ]
  },
  {
   "cell_type": "code",
   "execution_count": null,
   "metadata": {},
   "outputs": [],
   "source": []
  },
  {
   "cell_type": "markdown",
   "metadata": {},
   "source": [
    "### pivot() / pivot_table()"
   ]
  },
  {
   "cell_type": "markdown",
   "metadata": {},
   "source": [
    "#### 範例資料：各地銷售額"
   ]
  },
  {
   "cell_type": "code",
   "execution_count": null,
   "metadata": {},
   "outputs": [],
   "source": [
    "sales_df = pd.DataFrame({\n",
    "    'year': ['2016', '2016', '2015', '2014', '2013'],\n",
    "    'country':['uk', 'usa', 'fr','fr','uk'],\n",
    "    'sales': [10, 21, 20, 10,12],\n",
    "    'rep': ['john', 'john', 'claire', 'kyle','kyle']\n",
    "})\n",
    "sales_df.head()"
   ]
  },
  {
   "cell_type": "code",
   "execution_count": null,
   "metadata": {},
   "outputs": [],
   "source": []
  }
 ],
 "metadata": {
  "kernelspec": {
   "display_name": "Python 3",
   "language": "python",
   "name": "python3"
  },
  "language_info": {
   "codemirror_mode": {
    "name": "ipython",
    "version": 3
   },
   "file_extension": ".py",
   "mimetype": "text/x-python",
   "name": "python",
   "nbconvert_exporter": "python",
   "pygments_lexer": "ipython3",
   "version": "3.6.5"
  }
 },
 "nbformat": 4,
 "nbformat_minor": 2
}
