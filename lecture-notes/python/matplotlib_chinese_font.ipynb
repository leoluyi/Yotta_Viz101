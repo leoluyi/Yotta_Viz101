{
 "cells": [
  {
   "cell_type": "markdown",
   "metadata": {},
   "source": [
    "# Fix Chinese Font for matplotlib"
   ]
  },
  {
   "cell_type": "markdown",
   "metadata": {},
   "source": [
    "### 1. 安裝 otf 中文字體\n",
    "\n",
    "安裝中文字體檔 (ttf/otf)，或將字體檔丟到 matplotlib 的安裝位置 `site-packages/matplotlib/mpl-data/fonts/ttf`，這裡建議直接安裝 __Google Noto Fonts__ (https://www.google.com/get/noto/#sans-hant)\n",
    "\n",
    "> macOS 中的字體格式是 ttc，而 matplotlib 格式是 ttf，不能直接指定 macOS 字體，需要下載 ttf 類中文字體，再安裝到 macOS 上，但不用另外將字體放到套件資料夾。\n",
    "\n",
    "```py\n",
    "# 找出 matplotlib 的安裝位置\n",
    "import matplotlib\n",
    "print(matplotlib.__path__)\n",
    "```\n",
    "\n",
    "[![](img/google-noto-fonts.png)](https://www.google.com/get/noto/#sans-hant)\n",
    "\n",
    "\n",
    "### 2. 刪除快取檔案 `~/.matplotlib/fontList.json`，並手動重新建立字型索引\n",
    "\n",
    "```py\n",
    "# matplotlib 不會每次啓動時都會自動重新掃描所有的字體文件並創建字體索引列表，\n",
    "# 因此在複製完字體文件之後，需要運行下面的語句以重新創建字體索引列表\n",
    "import matplotlib as mpl\n",
    "from matplotlib.font_manager import _rebuild\n",
    "_rebuild()\n",
    "```\n",
    "\n",
    "查看 `~/.matplotlib/fontList.json` 檔案是否有安裝的中文字型\n",
    "\n",
    "```\n",
    "{\n",
    "    \"fname\": \"/Users/user/Library/Fonts/NotoSansCJKtc-Regular.otf\",\n",
    "    \"name\": \"Noto Sans CJK TC\",  # 確認字型名字\n",
    "    ...\n",
    "}\n",
    "```\n",
    "\n",
    "### 3. Set font family\n",
    "\n",
    "```py\n",
    "import matplotlib.pyplot as plt\n",
    "# 變更中文字型\n",
    "plt.rcParams['font.sans-serif'].insert(0, 'Noto Sans CJK TC')\n",
    "# 修復負號顯示問題 (思源黑體可以正常顯示負號，所以不需要加這行)\n",
    "plt.rcParams['axes.unicode_minus'] = False\n",
    "```\n",
    "\n",
    "### 4. (Optional) 直接在 `matplotlibrc` 修改就不用另外指定 `plt.rcParams`\n",
    "\n",
    "修改 `~/.matplotlib/matplotlibrc` 加入下面幾行\n",
    "\n",
    "- Linux: `~/.config/matplotlib/matplotlibrc`\n",
    "- Mac/Windows: `~/.matplotlib/matplotlibrc`\n",
    "\n",
    "```\n",
    "# ~/.matplotlib/matplotlibrc\n",
    "font.family         : sans-serif\n",
    "font.sans-serif     : Noto Sans CJK TC, Bitstream Vera Sans, Lucida Grande,Verdana, Geneva, Lucid, Arial, Helvetica, Avant Garde, sans-serif\n",
    "```\n",
    "\n",
    "> 也可以（但不建議）修改 matplotlib 安裝路徑中的 `site-packages/matplotlib/mpl-data/matplotlibrc` 文件，因為重新安裝後設定便會消失)，找到如下兩項，去掉前面的 `#`，並在 `font.sans-serif` 冒號後面加上 `Noto Sans CJK TC`，保存退出。(解決負號 '-' 顯示為方塊的問題：找到 `axes.unicode_minus`，將 `True` 改為 `False`"
   ]
  },
  {
   "cell_type": "markdown",
   "metadata": {},
   "source": [
    "---"
   ]
  },
  {
   "cell_type": "markdown",
   "metadata": {},
   "source": [
    "### matplotlib 設定字型起手式"
   ]
  },
  {
   "cell_type": "code",
   "execution_count": 18,
   "metadata": {},
   "outputs": [],
   "source": [
    "from matplotlib import pyplot as plt\n",
    "plt.rcParams['font.sans-serif'].insert(0, 'Noto Sans CJK TC')\n",
    "\n",
    "%matplotlib inline\n",
    "#%config InlineBackend.figure_format = 'svg'"
   ]
  },
  {
   "cell_type": "markdown",
   "metadata": {},
   "source": [
    "---"
   ]
  },
  {
   "cell_type": "code",
   "execution_count": 1,
   "metadata": {},
   "outputs": [],
   "source": [
    "# 移除\n",
    "!rm ~/.matplotlib/fontList.json\n",
    "\n",
    "# Windows\n",
    "# DEL ~/.matplotlib/fontList.json"
   ]
  },
  {
   "cell_type": "code",
   "execution_count": 3,
   "metadata": {},
   "outputs": [
    {
     "name": "stdout",
     "output_type": "stream",
     "text": [
      "fontList.py3k.cache \u001b[1m\u001b[34mtex.cache\u001b[m\u001b[m\r\n"
     ]
    }
   ],
   "source": [
    "!ls ~/.matplotlib/"
   ]
  },
  {
   "cell_type": "code",
   "execution_count": 4,
   "metadata": {},
   "outputs": [],
   "source": [
    "import matplotlib as mpl\n",
    "from matplotlib.font_manager import _rebuild\n",
    "_rebuild()"
   ]
  },
  {
   "cell_type": "code",
   "execution_count": null,
   "metadata": {},
   "outputs": [],
   "source": [
    "# then check the file ~/.matplotlib/fontList.json\n",
    "\n",
    "!cat ~/.matplotlib/fontList.json"
   ]
  },
  {
   "cell_type": "markdown",
   "metadata": {},
   "source": [
    "### Try"
   ]
  },
  {
   "cell_type": "code",
   "execution_count": 6,
   "metadata": {},
   "outputs": [
    {
     "ename": "NameError",
     "evalue": "name 'plt' is not defined",
     "output_type": "error",
     "traceback": [
      "\u001b[0;31m---------------------------------------------------------------------------\u001b[0m",
      "\u001b[0;31mNameError\u001b[0m                                 Traceback (most recent call last)",
      "\u001b[0;32m<ipython-input-6-d38dcda63b15>\u001b[0m in \u001b[0;36m<module>\u001b[0;34m()\u001b[0m\n\u001b[1;32m      2\u001b[0m \u001b[0mx\u001b[0m \u001b[0;34m=\u001b[0m \u001b[0mlist\u001b[0m\u001b[0;34m(\u001b[0m\u001b[0mrange\u001b[0m\u001b[0;34m(\u001b[0m\u001b[0mlen\u001b[0m\u001b[0;34m(\u001b[0m\u001b[0mx_labels\u001b[0m\u001b[0;34m)\u001b[0m\u001b[0;34m)\u001b[0m\u001b[0;34m)\u001b[0m\u001b[0;34m\u001b[0m\u001b[0m\n\u001b[1;32m      3\u001b[0m \u001b[0;34m\u001b[0m\u001b[0m\n\u001b[0;32m----> 4\u001b[0;31m \u001b[0mplt\u001b[0m\u001b[0;34m.\u001b[0m\u001b[0mxticks\u001b[0m\u001b[0;34m(\u001b[0m\u001b[0mx\u001b[0m\u001b[0;34m,\u001b[0m \u001b[0mx_labels\u001b[0m\u001b[0;34m)\u001b[0m\u001b[0;34m\u001b[0m\u001b[0m\n\u001b[0m\u001b[1;32m      5\u001b[0m \u001b[0mplt\u001b[0m\u001b[0;34m.\u001b[0m\u001b[0mtitle\u001b[0m\u001b[0;34m(\u001b[0m\u001b[0;34m'中文標題正常顯示'\u001b[0m\u001b[0;34m)\u001b[0m \u001b[0;31m# title\u001b[0m\u001b[0;34m\u001b[0m\u001b[0m\n\u001b[1;32m      6\u001b[0m \u001b[0mplt\u001b[0m\u001b[0;34m.\u001b[0m\u001b[0mshow\u001b[0m\u001b[0;34m(\u001b[0m\u001b[0;34m)\u001b[0m\u001b[0;34m\u001b[0m\u001b[0m\n",
      "\u001b[0;31mNameError\u001b[0m: name 'plt' is not defined"
     ]
    }
   ],
   "source": [
    "x_labels = ['蘋果', '橘子', '香蕉'] # x labels\n",
    "x = list(range(len(x_labels)))\n",
    "\n",
    "plt.xticks(x, x_labels)\n",
    "plt.title('中文標題正常顯示') # title\n",
    "plt.show()"
   ]
  },
  {
   "cell_type": "code",
   "execution_count": null,
   "metadata": {},
   "outputs": [],
   "source": []
  }
 ],
 "metadata": {
  "kernelspec": {
   "display_name": "Python 3",
   "language": "python",
   "name": "python3"
  },
  "language_info": {
   "codemirror_mode": {
    "name": "ipython",
    "version": 3
   },
   "file_extension": ".py",
   "mimetype": "text/x-python",
   "name": "python",
   "nbconvert_exporter": "python",
   "pygments_lexer": "ipython3",
   "version": "3.6.5"
  }
 },
 "nbformat": 4,
 "nbformat_minor": 2
}
